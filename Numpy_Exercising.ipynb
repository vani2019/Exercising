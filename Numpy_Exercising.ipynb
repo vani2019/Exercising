{
  "nbformat": 4,
  "nbformat_minor": 0,
  "metadata": {
    "colab": {
      "name": "Numpy_Exercising.ipynb",
      "provenance": [],
      "collapsed_sections": []
    },
    "kernelspec": {
      "name": "python3",
      "display_name": "Python 3"
    }
  },
  "cells": [
    {
      "cell_type": "markdown",
      "metadata": {
        "id": "68IXND7ysRnH",
        "colab_type": "text"
      },
      "source": [
        "## Datatypes and Attributes"
      ]
    },
    {
      "cell_type": "code",
      "metadata": {
        "id": "vkbgjAnUp221",
        "colab_type": "code",
        "colab": {
          "base_uri": "https://localhost:8080/",
          "height": 34
        },
        "outputId": "5ada4156-9f9e-4ed7-b140-49d93eee3a4b"
      },
      "source": [
        "## Numpy main datatype is ndarray\n",
        "\n",
        "import numpy as np\n",
        "\n",
        "a1 = np.array([1,2,3])\n",
        "a1\n"
      ],
      "execution_count": 4,
      "outputs": [
        {
          "output_type": "execute_result",
          "data": {
            "text/plain": [
              "array([1, 2, 3])"
            ]
          },
          "metadata": {
            "tags": []
          },
          "execution_count": 4
        }
      ]
    },
    {
      "cell_type": "code",
      "metadata": {
        "id": "X0kzrEdIx4Gn",
        "colab_type": "code",
        "colab": {
          "base_uri": "https://localhost:8080/",
          "height": 34
        },
        "outputId": "cc09da0d-7895-46bd-ddb6-8050836fecaf"
      },
      "source": [
        "a1.shape"
      ],
      "execution_count": 19,
      "outputs": [
        {
          "output_type": "execute_result",
          "data": {
            "text/plain": [
              "(3,)"
            ]
          },
          "metadata": {
            "tags": []
          },
          "execution_count": 19
        }
      ]
    },
    {
      "cell_type": "code",
      "metadata": {
        "id": "LOX7h6WUwMUI",
        "colab_type": "code",
        "colab": {
          "base_uri": "https://localhost:8080/",
          "height": 34
        },
        "outputId": "d64bd2b7-7bb6-4ad6-baa7-30f0c46c8151"
      },
      "source": [
        "type(a1)"
      ],
      "execution_count": 5,
      "outputs": [
        {
          "output_type": "execute_result",
          "data": {
            "text/plain": [
              "numpy.ndarray"
            ]
          },
          "metadata": {
            "tags": []
          },
          "execution_count": 5
        }
      ]
    },
    {
      "cell_type": "code",
      "metadata": {
        "id": "9oXcT8U7p20E",
        "colab_type": "code",
        "colab": {
          "base_uri": "https://localhost:8080/",
          "height": 50
        },
        "outputId": "4285a9d3-ed34-4d8b-b147-2c6d05f57587"
      },
      "source": [
        "a2=np.array([[1, 2.6, 3.4],\n",
        "             [4.5, 3.2, 2.8]])\n",
        "a2"
      ],
      "execution_count": 7,
      "outputs": [
        {
          "output_type": "execute_result",
          "data": {
            "text/plain": [
              "array([[1. , 2.6, 3.4],\n",
              "       [4.5, 3.2, 2.8]])"
            ]
          },
          "metadata": {
            "tags": []
          },
          "execution_count": 7
        }
      ]
    },
    {
      "cell_type": "code",
      "metadata": {
        "id": "abFSus-lp2up",
        "colab_type": "code",
        "colab": {
          "base_uri": "https://localhost:8080/",
          "height": 34
        },
        "outputId": "6dcf22d7-1665-47b1-df7a-355aac4456ee"
      },
      "source": [
        "a2.shape"
      ],
      "execution_count": 8,
      "outputs": [
        {
          "output_type": "execute_result",
          "data": {
            "text/plain": [
              "(2, 3)"
            ]
          },
          "metadata": {
            "tags": []
          },
          "execution_count": 8
        }
      ]
    },
    {
      "cell_type": "code",
      "metadata": {
        "id": "Kef6IfAMwrgs",
        "colab_type": "code",
        "colab": {}
      },
      "source": [
        "a3=np.array([[[1,2,3],\n",
        "              [4,5,6],\n",
        "              [7,8,9]],\n",
        "              \n",
        "              [[1,2,4],\n",
        "               [4,6,9],\n",
        "               [6,4,2]]])"
      ],
      "execution_count": 0,
      "outputs": []
    },
    {
      "cell_type": "code",
      "metadata": {
        "id": "I2ds8F3Op2rN",
        "colab_type": "code",
        "colab": {
          "base_uri": "https://localhost:8080/",
          "height": 134
        },
        "outputId": "2658051a-ef9b-4fe8-f582-1eb0cccf6efb"
      },
      "source": [
        "a3"
      ],
      "execution_count": 17,
      "outputs": [
        {
          "output_type": "execute_result",
          "data": {
            "text/plain": [
              "array([[[1, 2, 3],\n",
              "        [4, 5, 6],\n",
              "        [7, 8, 9]],\n",
              "\n",
              "       [[1, 2, 4],\n",
              "        [4, 6, 9],\n",
              "        [6, 4, 2]]])"
            ]
          },
          "metadata": {
            "tags": []
          },
          "execution_count": 17
        }
      ]
    },
    {
      "cell_type": "code",
      "metadata": {
        "id": "45uvuJljxIJW",
        "colab_type": "code",
        "colab": {
          "base_uri": "https://localhost:8080/",
          "height": 34
        },
        "outputId": "f8fd7951-9e83-43fe-babf-07e00fb22d2a"
      },
      "source": [
        "a3.shape"
      ],
      "execution_count": 18,
      "outputs": [
        {
          "output_type": "execute_result",
          "data": {
            "text/plain": [
              "(2, 3, 3)"
            ]
          },
          "metadata": {
            "tags": []
          },
          "execution_count": 18
        }
      ]
    },
    {
      "cell_type": "code",
      "metadata": {
        "id": "6M_URKMExLTQ",
        "colab_type": "code",
        "colab": {
          "base_uri": "https://localhost:8080/",
          "height": 34
        },
        "outputId": "95cfb5f8-c888-4424-a9c1-2b64a0b3a0b8"
      },
      "source": [
        "a1.ndim, a2.ndim, a3.ndim"
      ],
      "execution_count": 20,
      "outputs": [
        {
          "output_type": "execute_result",
          "data": {
            "text/plain": [
              "(1, 2, 3)"
            ]
          },
          "metadata": {
            "tags": []
          },
          "execution_count": 20
        }
      ]
    },
    {
      "cell_type": "code",
      "metadata": {
        "id": "Hkwdd079yG07",
        "colab_type": "code",
        "colab": {
          "base_uri": "https://localhost:8080/",
          "height": 34
        },
        "outputId": "3c969eba-135b-4ce8-cfd9-06f9cbd0ce40"
      },
      "source": [
        "a1.dtype, a2.dtype, a3.dtype"
      ],
      "execution_count": 21,
      "outputs": [
        {
          "output_type": "execute_result",
          "data": {
            "text/plain": [
              "(dtype('int64'), dtype('float64'), dtype('int64'))"
            ]
          },
          "metadata": {
            "tags": []
          },
          "execution_count": 21
        }
      ]
    },
    {
      "cell_type": "code",
      "metadata": {
        "id": "bB6ZUg5_yMgg",
        "colab_type": "code",
        "colab": {
          "base_uri": "https://localhost:8080/",
          "height": 106
        },
        "outputId": "a0aadf17-cdc7-4a32-a0f5-758d80c36361"
      },
      "source": [
        "## create a dataframe from numpy array\n",
        "\n",
        "import pandas as pd\n",
        "df = pd.DataFrame(a2)\n",
        "df"
      ],
      "execution_count": 22,
      "outputs": [
        {
          "output_type": "execute_result",
          "data": {
            "text/html": [
              "<div>\n",
              "<style scoped>\n",
              "    .dataframe tbody tr th:only-of-type {\n",
              "        vertical-align: middle;\n",
              "    }\n",
              "\n",
              "    .dataframe tbody tr th {\n",
              "        vertical-align: top;\n",
              "    }\n",
              "\n",
              "    .dataframe thead th {\n",
              "        text-align: right;\n",
              "    }\n",
              "</style>\n",
              "<table border=\"1\" class=\"dataframe\">\n",
              "  <thead>\n",
              "    <tr style=\"text-align: right;\">\n",
              "      <th></th>\n",
              "      <th>0</th>\n",
              "      <th>1</th>\n",
              "      <th>2</th>\n",
              "    </tr>\n",
              "  </thead>\n",
              "  <tbody>\n",
              "    <tr>\n",
              "      <th>0</th>\n",
              "      <td>1.0</td>\n",
              "      <td>2.6</td>\n",
              "      <td>3.4</td>\n",
              "    </tr>\n",
              "    <tr>\n",
              "      <th>1</th>\n",
              "      <td>4.5</td>\n",
              "      <td>3.2</td>\n",
              "      <td>2.8</td>\n",
              "    </tr>\n",
              "  </tbody>\n",
              "</table>\n",
              "</div>"
            ],
            "text/plain": [
              "     0    1    2\n",
              "0  1.0  2.6  3.4\n",
              "1  4.5  3.2  2.8"
            ]
          },
          "metadata": {
            "tags": []
          },
          "execution_count": 22
        }
      ]
    },
    {
      "cell_type": "markdown",
      "metadata": {
        "id": "O-9UnszJ4Djv",
        "colab_type": "text"
      },
      "source": [
        "## Creating Arrays"
      ]
    },
    {
      "cell_type": "code",
      "metadata": {
        "id": "bLY8y8Mjzm7i",
        "colab_type": "code",
        "colab": {
          "base_uri": "https://localhost:8080/",
          "height": 50
        },
        "outputId": "37618923-ed3b-466e-d4bb-b64c2c409079"
      },
      "source": [
        "ones = np.ones((2,2))\n",
        "ones"
      ],
      "execution_count": 26,
      "outputs": [
        {
          "output_type": "execute_result",
          "data": {
            "text/plain": [
              "array([[1., 1.],\n",
              "       [1., 1.]])"
            ]
          },
          "metadata": {
            "tags": []
          },
          "execution_count": 26
        }
      ]
    },
    {
      "cell_type": "code",
      "metadata": {
        "id": "D5A_Zibx4nyH",
        "colab_type": "code",
        "colab": {
          "base_uri": "https://localhost:8080/",
          "height": 34
        },
        "outputId": "d7d8e1a9-5f40-472d-d44f-019d382f5b3d"
      },
      "source": [
        "ones.dtype"
      ],
      "execution_count": 29,
      "outputs": [
        {
          "output_type": "execute_result",
          "data": {
            "text/plain": [
              "dtype('float64')"
            ]
          },
          "metadata": {
            "tags": []
          },
          "execution_count": 29
        }
      ]
    },
    {
      "cell_type": "code",
      "metadata": {
        "id": "B8p1qBRf4Zur",
        "colab_type": "code",
        "colab": {
          "base_uri": "https://localhost:8080/",
          "height": 50
        },
        "outputId": "72c3ef55-b650-4236-8815-8e19b391f2bb"
      },
      "source": [
        "zeros = np.zeros((2,3))\n",
        "zeros"
      ],
      "execution_count": 27,
      "outputs": [
        {
          "output_type": "execute_result",
          "data": {
            "text/plain": [
              "array([[0., 0., 0.],\n",
              "       [0., 0., 0.]])"
            ]
          },
          "metadata": {
            "tags": []
          },
          "execution_count": 27
        }
      ]
    },
    {
      "cell_type": "code",
      "metadata": {
        "id": "HbPpodCC4qxK",
        "colab_type": "code",
        "colab": {
          "base_uri": "https://localhost:8080/",
          "height": 34
        },
        "outputId": "3ff538ff-c1a6-477a-bdf7-e0c299bef5d2"
      },
      "source": [
        "zeros.dtype"
      ],
      "execution_count": 30,
      "outputs": [
        {
          "output_type": "execute_result",
          "data": {
            "text/plain": [
              "dtype('float64')"
            ]
          },
          "metadata": {
            "tags": []
          },
          "execution_count": 30
        }
      ]
    },
    {
      "cell_type": "code",
      "metadata": {
        "id": "OmxfXj0H4w6L",
        "colab_type": "code",
        "colab": {
          "base_uri": "https://localhost:8080/",
          "height": 34
        },
        "outputId": "03b99c93-80b6-46de-827c-026d9286d3f1"
      },
      "source": [
        "rangearr = np.arange(0,10,2)\n",
        "rangearr"
      ],
      "execution_count": 32,
      "outputs": [
        {
          "output_type": "execute_result",
          "data": {
            "text/plain": [
              "array([0, 2, 4, 6, 8])"
            ]
          },
          "metadata": {
            "tags": []
          },
          "execution_count": 32
        }
      ]
    },
    {
      "cell_type": "code",
      "metadata": {
        "id": "cprVa0bf5SU1",
        "colab_type": "code",
        "colab": {
          "base_uri": "https://localhost:8080/",
          "height": 34
        },
        "outputId": "b0d48bbc-15e1-4833-d3bf-917fdb7da80c"
      },
      "source": [
        "rangearr = np.arange(0,10)\n",
        "rangearr"
      ],
      "execution_count": 33,
      "outputs": [
        {
          "output_type": "execute_result",
          "data": {
            "text/plain": [
              "array([0, 1, 2, 3, 4, 5, 6, 7, 8, 9])"
            ]
          },
          "metadata": {
            "tags": []
          },
          "execution_count": 33
        }
      ]
    },
    {
      "cell_type": "code",
      "metadata": {
        "id": "sxypCxuU5Qt1",
        "colab_type": "code",
        "colab": {
          "base_uri": "https://localhost:8080/",
          "height": 67
        },
        "outputId": "feb5b7f5-a5a6-4c51-fc13-be1d49a5a7c6"
      },
      "source": [
        "randomarr = np.random.randint(0,10,size=(3,5))\n",
        "randomarr"
      ],
      "execution_count": 39,
      "outputs": [
        {
          "output_type": "execute_result",
          "data": {
            "text/plain": [
              "array([[4, 1, 0, 4, 7],\n",
              "       [9, 8, 6, 8, 8],\n",
              "       [3, 2, 7, 2, 6]])"
            ]
          },
          "metadata": {
            "tags": []
          },
          "execution_count": 39
        }
      ]
    },
    {
      "cell_type": "code",
      "metadata": {
        "id": "xyNB5fJT5gtS",
        "colab_type": "code",
        "colab": {
          "base_uri": "https://localhost:8080/",
          "height": 34
        },
        "outputId": "9fdf43fe-6cd9-496b-8241-f9c5026cf446"
      },
      "source": [
        "randomarr.size,  randomarr.shape"
      ],
      "execution_count": 40,
      "outputs": [
        {
          "output_type": "execute_result",
          "data": {
            "text/plain": [
              "(15, (3, 5))"
            ]
          },
          "metadata": {
            "tags": []
          },
          "execution_count": 40
        }
      ]
    },
    {
      "cell_type": "code",
      "metadata": {
        "id": "su-sAzHm5_qr",
        "colab_type": "code",
        "colab": {
          "base_uri": "https://localhost:8080/",
          "height": 101
        },
        "outputId": "f3ec2aae-db8d-4159-e6da-289672e30f04"
      },
      "source": [
        "randomarr2 = np.random.random((5,3))\n",
        "randomarr2"
      ],
      "execution_count": 44,
      "outputs": [
        {
          "output_type": "execute_result",
          "data": {
            "text/plain": [
              "array([[0.62189821, 0.43425482, 0.87123418],\n",
              "       [0.2773741 , 0.35252947, 0.01403279],\n",
              "       [0.56114753, 0.59727605, 0.49574178],\n",
              "       [0.92776714, 0.3718475 , 0.36043184],\n",
              "       [0.53748417, 0.19310227, 0.12362455]])"
            ]
          },
          "metadata": {
            "tags": []
          },
          "execution_count": 44
        }
      ]
    },
    {
      "cell_type": "code",
      "metadata": {
        "id": "YDHIq3Vy8LHK",
        "colab_type": "code",
        "colab": {
          "base_uri": "https://localhost:8080/",
          "height": 101
        },
        "outputId": "c46151e3-f9da-4d26-b2cd-e20f294e7b0b"
      },
      "source": [
        "## pseudo-random numbers\n",
        "## random numbers keep aligned with the seed, preserve random numbers while executed multiple times\n",
        "np.random.seed(0)\n",
        "randomarr3=np.random.randint(10, size=(5,3))\n",
        "randomarr3"
      ],
      "execution_count": 50,
      "outputs": [
        {
          "output_type": "execute_result",
          "data": {
            "text/plain": [
              "array([[5, 0, 3],\n",
              "       [3, 7, 9],\n",
              "       [3, 5, 2],\n",
              "       [4, 7, 6],\n",
              "       [8, 8, 1]])"
            ]
          },
          "metadata": {
            "tags": []
          },
          "execution_count": 50
        }
      ]
    },
    {
      "cell_type": "code",
      "metadata": {
        "id": "cEn-uKab5fTi",
        "colab_type": "code",
        "colab": {
          "base_uri": "https://localhost:8080/",
          "height": 101
        },
        "outputId": "fd3b05ab-d1c9-419d-bf20-3167b1ad8a21"
      },
      "source": [
        "np.random.seed(7)\n",
        "randomarr4=np.random.random((5,3))\n",
        "randomarr4"
      ],
      "execution_count": 54,
      "outputs": [
        {
          "output_type": "execute_result",
          "data": {
            "text/plain": [
              "array([[0.07630829, 0.77991879, 0.43840923],\n",
              "       [0.72346518, 0.97798951, 0.53849587],\n",
              "       [0.50112046, 0.07205113, 0.26843898],\n",
              "       [0.4998825 , 0.67923   , 0.80373904],\n",
              "       [0.38094113, 0.06593635, 0.2881456 ]])"
            ]
          },
          "metadata": {
            "tags": []
          },
          "execution_count": 54
        }
      ]
    },
    {
      "cell_type": "markdown",
      "metadata": {
        "id": "yu-PpbF9Mpb0",
        "colab_type": "text"
      },
      "source": [
        "## Viewing Arrays and Matrices"
      ]
    },
    {
      "cell_type": "code",
      "metadata": {
        "id": "XOX5Wf4g4pQ7",
        "colab_type": "code",
        "colab": {
          "base_uri": "https://localhost:8080/",
          "height": 67
        },
        "outputId": "cdaa85f4-4c4a-4565-8b7f-2e517d3198a1"
      },
      "source": [
        "np.unique(randomarr4)"
      ],
      "execution_count": 58,
      "outputs": [
        {
          "output_type": "execute_result",
          "data": {
            "text/plain": [
              "array([0.06593635, 0.07205113, 0.07630829, 0.26843898, 0.2881456 ,\n",
              "       0.38094113, 0.43840923, 0.4998825 , 0.50112046, 0.53849587,\n",
              "       0.67923   , 0.72346518, 0.77991879, 0.80373904, 0.97798951])"
            ]
          },
          "metadata": {
            "tags": []
          },
          "execution_count": 58
        }
      ]
    },
    {
      "cell_type": "code",
      "metadata": {
        "id": "Vou4B_5gNEyI",
        "colab_type": "code",
        "colab": {
          "base_uri": "https://localhost:8080/",
          "height": 34
        },
        "outputId": "ed9b959e-c976-40f1-ca4f-40f2baaf12af"
      },
      "source": [
        "np.unique(randomarr3)"
      ],
      "execution_count": 59,
      "outputs": [
        {
          "output_type": "execute_result",
          "data": {
            "text/plain": [
              "array([0, 1, 2, 3, 4, 5, 6, 7, 8, 9])"
            ]
          },
          "metadata": {
            "tags": []
          },
          "execution_count": 59
        }
      ]
    },
    {
      "cell_type": "code",
      "metadata": {
        "id": "GVRj4QxBNJT7",
        "colab_type": "code",
        "colab": {
          "base_uri": "https://localhost:8080/",
          "height": 34
        },
        "outputId": "824b3cce-d710-498a-d733-36d3d3d53b1e"
      },
      "source": [
        "a1"
      ],
      "execution_count": 60,
      "outputs": [
        {
          "output_type": "execute_result",
          "data": {
            "text/plain": [
              "array([1, 2, 3])"
            ]
          },
          "metadata": {
            "tags": []
          },
          "execution_count": 60
        }
      ]
    },
    {
      "cell_type": "code",
      "metadata": {
        "id": "xKMkuq4NNO0b",
        "colab_type": "code",
        "colab": {
          "base_uri": "https://localhost:8080/",
          "height": 50
        },
        "outputId": "251374ea-e46a-4992-df65-3754c931026b"
      },
      "source": [
        "a2"
      ],
      "execution_count": 61,
      "outputs": [
        {
          "output_type": "execute_result",
          "data": {
            "text/plain": [
              "array([[1. , 2.6, 3.4],\n",
              "       [4.5, 3.2, 2.8]])"
            ]
          },
          "metadata": {
            "tags": []
          },
          "execution_count": 61
        }
      ]
    },
    {
      "cell_type": "code",
      "metadata": {
        "id": "dU7cnO5mNP15",
        "colab_type": "code",
        "colab": {
          "base_uri": "https://localhost:8080/",
          "height": 134
        },
        "outputId": "91d6cd07-59de-43f1-92ac-c69bdc1eb8e1"
      },
      "source": [
        "a3"
      ],
      "execution_count": 62,
      "outputs": [
        {
          "output_type": "execute_result",
          "data": {
            "text/plain": [
              "array([[[1, 2, 3],\n",
              "        [4, 5, 6],\n",
              "        [7, 8, 9]],\n",
              "\n",
              "       [[1, 2, 4],\n",
              "        [4, 6, 9],\n",
              "        [6, 4, 2]]])"
            ]
          },
          "metadata": {
            "tags": []
          },
          "execution_count": 62
        }
      ]
    },
    {
      "cell_type": "code",
      "metadata": {
        "id": "PpPRzzlvNQ9_",
        "colab_type": "code",
        "colab": {
          "base_uri": "https://localhost:8080/",
          "height": 34
        },
        "outputId": "727364f2-3744-4c59-bb17-89a73fc41f06"
      },
      "source": [
        "a1[0]  ,  a2[0]"
      ],
      "execution_count": 63,
      "outputs": [
        {
          "output_type": "execute_result",
          "data": {
            "text/plain": [
              "(1, array([1. , 2.6, 3.4]))"
            ]
          },
          "metadata": {
            "tags": []
          },
          "execution_count": 63
        }
      ]
    },
    {
      "cell_type": "code",
      "metadata": {
        "id": "3-Q1d42iNWu5",
        "colab_type": "code",
        "colab": {
          "base_uri": "https://localhost:8080/",
          "height": 67
        },
        "outputId": "634caa65-77bd-479f-d720-2034886e6a6e"
      },
      "source": [
        "a3[0]"
      ],
      "execution_count": 64,
      "outputs": [
        {
          "output_type": "execute_result",
          "data": {
            "text/plain": [
              "array([[1, 2, 3],\n",
              "       [4, 5, 6],\n",
              "       [7, 8, 9]])"
            ]
          },
          "metadata": {
            "tags": []
          },
          "execution_count": 64
        }
      ]
    },
    {
      "cell_type": "code",
      "metadata": {
        "id": "YVHVlxT3NZWG",
        "colab_type": "code",
        "colab": {
          "base_uri": "https://localhost:8080/",
          "height": 34
        },
        "outputId": "56cdfe55-871d-4e40-e10b-d52d0e25184f"
      },
      "source": [
        "a2[1]"
      ],
      "execution_count": 65,
      "outputs": [
        {
          "output_type": "execute_result",
          "data": {
            "text/plain": [
              "array([4.5, 3.2, 2.8])"
            ]
          },
          "metadata": {
            "tags": []
          },
          "execution_count": 65
        }
      ]
    },
    {
      "cell_type": "code",
      "metadata": {
        "id": "bofXDXVIOuNQ",
        "colab_type": "code",
        "colab": {
          "base_uri": "https://localhost:8080/",
          "height": 101
        },
        "outputId": "3cb07692-2467-4dbb-9ac5-1250f8fa61b7"
      },
      "source": [
        "a3[:2,:2,:2]"
      ],
      "execution_count": 66,
      "outputs": [
        {
          "output_type": "execute_result",
          "data": {
            "text/plain": [
              "array([[[1, 2],\n",
              "        [4, 5]],\n",
              "\n",
              "       [[1, 2],\n",
              "        [4, 6]]])"
            ]
          },
          "metadata": {
            "tags": []
          },
          "execution_count": 66
        }
      ]
    },
    {
      "cell_type": "markdown",
      "metadata": {
        "id": "NXa4MDEpPilC",
        "colab_type": "text"
      },
      "source": [
        "### Manipulating and comparing arrays"
      ]
    },
    {
      "cell_type": "code",
      "metadata": {
        "id": "XFPdDibh4YQW",
        "colab_type": "code",
        "colab": {
          "base_uri": "https://localhost:8080/",
          "height": 34
        },
        "outputId": "f6c188e7-308c-44f6-f9ee-16064e6bb12e"
      },
      "source": [
        "a1"
      ],
      "execution_count": 67,
      "outputs": [
        {
          "output_type": "execute_result",
          "data": {
            "text/plain": [
              "array([1, 2, 3])"
            ]
          },
          "metadata": {
            "tags": []
          },
          "execution_count": 67
        }
      ]
    },
    {
      "cell_type": "code",
      "metadata": {
        "id": "R95a7h7QPoNK",
        "colab_type": "code",
        "colab": {
          "base_uri": "https://localhost:8080/",
          "height": 34
        },
        "outputId": "185bceb6-fdbd-4407-fff7-049d32c6e5c6"
      },
      "source": [
        "ones=np.ones(3)\n",
        "ones"
      ],
      "execution_count": 69,
      "outputs": [
        {
          "output_type": "execute_result",
          "data": {
            "text/plain": [
              "array([1., 1., 1.])"
            ]
          },
          "metadata": {
            "tags": []
          },
          "execution_count": 69
        }
      ]
    },
    {
      "cell_type": "code",
      "metadata": {
        "id": "SQjIrwA8Pspd",
        "colab_type": "code",
        "colab": {
          "base_uri": "https://localhost:8080/",
          "height": 34
        },
        "outputId": "9901789b-e7a9-42fe-b3ef-a09cdcfa1ff1"
      },
      "source": [
        "a1+ones"
      ],
      "execution_count": 70,
      "outputs": [
        {
          "output_type": "execute_result",
          "data": {
            "text/plain": [
              "array([2., 3., 4.])"
            ]
          },
          "metadata": {
            "tags": []
          },
          "execution_count": 70
        }
      ]
    },
    {
      "cell_type": "code",
      "metadata": {
        "id": "RfVBPlbQPwAU",
        "colab_type": "code",
        "colab": {
          "base_uri": "https://localhost:8080/",
          "height": 34
        },
        "outputId": "c2e4f026-6863-407d-9e0a-24159a1288b9"
      },
      "source": [
        "a1-ones"
      ],
      "execution_count": 71,
      "outputs": [
        {
          "output_type": "execute_result",
          "data": {
            "text/plain": [
              "array([0., 1., 2.])"
            ]
          },
          "metadata": {
            "tags": []
          },
          "execution_count": 71
        }
      ]
    },
    {
      "cell_type": "code",
      "metadata": {
        "id": "d_yPeSepP4c0",
        "colab_type": "code",
        "colab": {
          "base_uri": "https://localhost:8080/",
          "height": 34
        },
        "outputId": "9455568c-cc6a-4bff-d0bf-e5edbe1f6594"
      },
      "source": [
        "a1 * ones"
      ],
      "execution_count": 72,
      "outputs": [
        {
          "output_type": "execute_result",
          "data": {
            "text/plain": [
              "array([1., 2., 3.])"
            ]
          },
          "metadata": {
            "tags": []
          },
          "execution_count": 72
        }
      ]
    },
    {
      "cell_type": "code",
      "metadata": {
        "id": "JqBiTJq1P8wF",
        "colab_type": "code",
        "colab": {
          "base_uri": "https://localhost:8080/",
          "height": 50
        },
        "outputId": "8c799cc4-499d-45d6-d983-135a143caf10"
      },
      "source": [
        "a2"
      ],
      "execution_count": 73,
      "outputs": [
        {
          "output_type": "execute_result",
          "data": {
            "text/plain": [
              "array([[1. , 2.6, 3.4],\n",
              "       [4.5, 3.2, 2.8]])"
            ]
          },
          "metadata": {
            "tags": []
          },
          "execution_count": 73
        }
      ]
    },
    {
      "cell_type": "code",
      "metadata": {
        "id": "2YOB2OwRQNBG",
        "colab_type": "code",
        "colab": {
          "base_uri": "https://localhost:8080/",
          "height": 50
        },
        "outputId": "90dd344f-7211-4171-de07-1fb1bd52e9f2"
      },
      "source": [
        "a1 * a2"
      ],
      "execution_count": 74,
      "outputs": [
        {
          "output_type": "execute_result",
          "data": {
            "text/plain": [
              "array([[ 1. ,  5.2, 10.2],\n",
              "       [ 4.5,  6.4,  8.4]])"
            ]
          },
          "metadata": {
            "tags": []
          },
          "execution_count": 74
        }
      ]
    },
    {
      "cell_type": "code",
      "metadata": {
        "id": "zC8oeSLjQOkr",
        "colab_type": "code",
        "colab": {
          "base_uri": "https://localhost:8080/",
          "height": 50
        },
        "outputId": "e07fce21-3068-46e6-9560-f3d28f7a466a"
      },
      "source": [
        "np.square(a2)"
      ],
      "execution_count": 75,
      "outputs": [
        {
          "output_type": "execute_result",
          "data": {
            "text/plain": [
              "array([[ 1.  ,  6.76, 11.56],\n",
              "       [20.25, 10.24,  7.84]])"
            ]
          },
          "metadata": {
            "tags": []
          },
          "execution_count": 75
        }
      ]
    },
    {
      "cell_type": "code",
      "metadata": {
        "id": "KThAtkCARlN3",
        "colab_type": "code",
        "colab": {
          "base_uri": "https://localhost:8080/",
          "height": 34
        },
        "outputId": "42cbc612-5264-4e32-8f75-b23d50892ebb"
      },
      "source": [
        "np.add(a1, ones)"
      ],
      "execution_count": 76,
      "outputs": [
        {
          "output_type": "execute_result",
          "data": {
            "text/plain": [
              "array([2., 3., 4.])"
            ]
          },
          "metadata": {
            "tags": []
          },
          "execution_count": 76
        }
      ]
    },
    {
      "cell_type": "code",
      "metadata": {
        "id": "2SfGEwDmRrh1",
        "colab_type": "code",
        "colab": {
          "base_uri": "https://localhost:8080/",
          "height": 34
        },
        "outputId": "e8ae8839-ab06-422d-a050-20eeb279ee97"
      },
      "source": [
        "np.mod(a1, 2)"
      ],
      "execution_count": 77,
      "outputs": [
        {
          "output_type": "execute_result",
          "data": {
            "text/plain": [
              "array([1, 0, 1])"
            ]
          },
          "metadata": {
            "tags": []
          },
          "execution_count": 77
        }
      ]
    },
    {
      "cell_type": "code",
      "metadata": {
        "id": "80xCFIlrRvf8",
        "colab_type": "code",
        "colab": {
          "base_uri": "https://localhost:8080/",
          "height": 34
        },
        "outputId": "087ffa0d-8a30-4110-c72d-ec455d8a431f"
      },
      "source": [
        "np.exp(a1)"
      ],
      "execution_count": 78,
      "outputs": [
        {
          "output_type": "execute_result",
          "data": {
            "text/plain": [
              "array([ 2.71828183,  7.3890561 , 20.08553692])"
            ]
          },
          "metadata": {
            "tags": []
          },
          "execution_count": 78
        }
      ]
    },
    {
      "cell_type": "code",
      "metadata": {
        "id": "u3kk9j1ZR4Vx",
        "colab_type": "code",
        "colab": {
          "base_uri": "https://localhost:8080/",
          "height": 34
        },
        "outputId": "1e6d8ea0-3e35-45f6-967b-dcd4256ad824"
      },
      "source": [
        "np.log(a1)"
      ],
      "execution_count": 79,
      "outputs": [
        {
          "output_type": "execute_result",
          "data": {
            "text/plain": [
              "array([0.        , 0.69314718, 1.09861229])"
            ]
          },
          "metadata": {
            "tags": []
          },
          "execution_count": 79
        }
      ]
    },
    {
      "cell_type": "markdown",
      "metadata": {
        "id": "iMZOaXFeSHGp",
        "colab_type": "text"
      },
      "source": [
        "## Aggregation"
      ]
    },
    {
      "cell_type": "code",
      "metadata": {
        "id": "qJQ0-ldqR61Z",
        "colab_type": "code",
        "colab": {
          "base_uri": "https://localhost:8080/",
          "height": 34
        },
        "outputId": "f9b47cb8-654d-4f8f-b0fb-704182a2f5d4"
      },
      "source": [
        "np.sum(a1)"
      ],
      "execution_count": 80,
      "outputs": [
        {
          "output_type": "execute_result",
          "data": {
            "text/plain": [
              "6"
            ]
          },
          "metadata": {
            "tags": []
          },
          "execution_count": 80
        }
      ]
    },
    {
      "cell_type": "code",
      "metadata": {
        "id": "gEsD1in7SYJZ",
        "colab_type": "code",
        "colab": {
          "base_uri": "https://localhost:8080/",
          "height": 34
        },
        "outputId": "e8430d72-9f2c-41ec-9a6a-7d94824b4002"
      },
      "source": [
        "np.max(a2)"
      ],
      "execution_count": 81,
      "outputs": [
        {
          "output_type": "execute_result",
          "data": {
            "text/plain": [
              "4.5"
            ]
          },
          "metadata": {
            "tags": []
          },
          "execution_count": 81
        }
      ]
    },
    {
      "cell_type": "code",
      "metadata": {
        "id": "847-pvrSSzvq",
        "colab_type": "code",
        "colab": {
          "base_uri": "https://localhost:8080/",
          "height": 34
        },
        "outputId": "a835535b-a0aa-48b2-e91e-1437e5b497f8"
      },
      "source": [
        "np.min(a2)"
      ],
      "execution_count": 82,
      "outputs": [
        {
          "output_type": "execute_result",
          "data": {
            "text/plain": [
              "1.0"
            ]
          },
          "metadata": {
            "tags": []
          },
          "execution_count": 82
        }
      ]
    },
    {
      "cell_type": "code",
      "metadata": {
        "id": "Hkd40ALJS2OA",
        "colab_type": "code",
        "colab": {
          "base_uri": "https://localhost:8080/",
          "height": 34
        },
        "outputId": "14a22166-3bbe-43e8-df55-e1adb5919f4b"
      },
      "source": [
        "np.std(a2)"
      ],
      "execution_count": 83,
      "outputs": [
        {
          "output_type": "execute_result",
          "data": {
            "text/plain": [
              "1.049470766095411"
            ]
          },
          "metadata": {
            "tags": []
          },
          "execution_count": 83
        }
      ]
    },
    {
      "cell_type": "code",
      "metadata": {
        "id": "UIE2N-XoS4Rm",
        "colab_type": "code",
        "colab": {
          "base_uri": "https://localhost:8080/",
          "height": 34
        },
        "outputId": "fbd76d73-56cc-4b15-90da-3113d26b59d5"
      },
      "source": [
        "np.var(a2)"
      ],
      "execution_count": 84,
      "outputs": [
        {
          "output_type": "execute_result",
          "data": {
            "text/plain": [
              "1.101388888888889"
            ]
          },
          "metadata": {
            "tags": []
          },
          "execution_count": 84
        }
      ]
    },
    {
      "cell_type": "code",
      "metadata": {
        "id": "vlEyV4okS85G",
        "colab_type": "code",
        "colab": {
          "base_uri": "https://localhost:8080/",
          "height": 34
        },
        "outputId": "c2cf2dfb-6c97-483e-c4dc-def275912bab"
      },
      "source": [
        "np.sqrt(np.var(a2))"
      ],
      "execution_count": 85,
      "outputs": [
        {
          "output_type": "execute_result",
          "data": {
            "text/plain": [
              "1.049470766095411"
            ]
          },
          "metadata": {
            "tags": []
          },
          "execution_count": 85
        }
      ]
    },
    {
      "cell_type": "markdown",
      "metadata": {
        "id": "Y-yooUoFU_Pw",
        "colab_type": "text"
      },
      "source": [
        "## Reshape and Transpose"
      ]
    },
    {
      "cell_type": "code",
      "metadata": {
        "id": "DV9epuefTKOx",
        "colab_type": "code",
        "colab": {
          "base_uri": "https://localhost:8080/",
          "height": 50
        },
        "outputId": "0e3484a2-3ca0-4e9e-9bcf-21dc1aa8a154"
      },
      "source": [
        "a2"
      ],
      "execution_count": 86,
      "outputs": [
        {
          "output_type": "execute_result",
          "data": {
            "text/plain": [
              "array([[1. , 2.6, 3.4],\n",
              "       [4.5, 3.2, 2.8]])"
            ]
          },
          "metadata": {
            "tags": []
          },
          "execution_count": 86
        }
      ]
    },
    {
      "cell_type": "code",
      "metadata": {
        "id": "5gzoEVUzVRqs",
        "colab_type": "code",
        "colab": {
          "base_uri": "https://localhost:8080/",
          "height": 134
        },
        "outputId": "8c371151-74cd-4f07-fdc2-ba052f2a7997"
      },
      "source": [
        "a3"
      ],
      "execution_count": 87,
      "outputs": [
        {
          "output_type": "execute_result",
          "data": {
            "text/plain": [
              "array([[[1, 2, 3],\n",
              "        [4, 5, 6],\n",
              "        [7, 8, 9]],\n",
              "\n",
              "       [[1, 2, 4],\n",
              "        [4, 6, 9],\n",
              "        [6, 4, 2]]])"
            ]
          },
          "metadata": {
            "tags": []
          },
          "execution_count": 87
        }
      ]
    },
    {
      "cell_type": "code",
      "metadata": {
        "id": "MXFeLE9iVSrt",
        "colab_type": "code",
        "colab": {
          "base_uri": "https://localhost:8080/",
          "height": 134
        },
        "outputId": "fc8d3ec0-7e6e-4502-8ddd-4d481926cafb"
      },
      "source": [
        "a2reshape = a2.reshape(2 , 3,  1)\n",
        "a2reshape"
      ],
      "execution_count": 90,
      "outputs": [
        {
          "output_type": "execute_result",
          "data": {
            "text/plain": [
              "array([[[1. ],\n",
              "        [2.6],\n",
              "        [3.4]],\n",
              "\n",
              "       [[4.5],\n",
              "        [3.2],\n",
              "        [2.8]]])"
            ]
          },
          "metadata": {
            "tags": []
          },
          "execution_count": 90
        }
      ]
    },
    {
      "cell_type": "code",
      "metadata": {
        "id": "jYNwoGxLV2RK",
        "colab_type": "code",
        "colab": {
          "base_uri": "https://localhost:8080/",
          "height": 134
        },
        "outputId": "d1c87144-796f-4232-c0b5-be1bc1de2222"
      },
      "source": [
        "m = a2reshape * a3\n",
        "m"
      ],
      "execution_count": 93,
      "outputs": [
        {
          "output_type": "execute_result",
          "data": {
            "text/plain": [
              "array([[[ 1. ,  2. ,  3. ],\n",
              "        [10.4, 13. , 15.6],\n",
              "        [23.8, 27.2, 30.6]],\n",
              "\n",
              "       [[ 4.5,  9. , 18. ],\n",
              "        [12.8, 19.2, 28.8],\n",
              "        [16.8, 11.2,  5.6]]])"
            ]
          },
          "metadata": {
            "tags": []
          },
          "execution_count": 93
        }
      ]
    },
    {
      "cell_type": "code",
      "metadata": {
        "id": "-l0JIJkWWBYh",
        "colab_type": "code",
        "colab": {
          "base_uri": "https://localhost:8080/",
          "height": 34
        },
        "outputId": "9b799f0a-724a-4278-e22b-be0e75bae8e8"
      },
      "source": [
        "m.shape"
      ],
      "execution_count": 94,
      "outputs": [
        {
          "output_type": "execute_result",
          "data": {
            "text/plain": [
              "(2, 3, 3)"
            ]
          },
          "metadata": {
            "tags": []
          },
          "execution_count": 94
        }
      ]
    },
    {
      "cell_type": "code",
      "metadata": {
        "id": "v4oidppPWDMX",
        "colab_type": "code",
        "colab": {
          "base_uri": "https://localhost:8080/",
          "height": 67
        },
        "outputId": "2b791ad4-76d3-4b23-81a9-79655be51f96"
      },
      "source": [
        "## transpose\n",
        "a2.T"
      ],
      "execution_count": 95,
      "outputs": [
        {
          "output_type": "execute_result",
          "data": {
            "text/plain": [
              "array([[1. , 4.5],\n",
              "       [2.6, 3.2],\n",
              "       [3.4, 2.8]])"
            ]
          },
          "metadata": {
            "tags": []
          },
          "execution_count": 95
        }
      ]
    },
    {
      "cell_type": "code",
      "metadata": {
        "id": "Yo7b8gV2WMSn",
        "colab_type": "code",
        "colab": {
          "base_uri": "https://localhost:8080/",
          "height": 34
        },
        "outputId": "f1d8bf28-8622-445c-f24d-d7615d36a670"
      },
      "source": [
        "a2.shape,  a2.T.shape"
      ],
      "execution_count": 96,
      "outputs": [
        {
          "output_type": "execute_result",
          "data": {
            "text/plain": [
              "((2, 3), (3, 2))"
            ]
          },
          "metadata": {
            "tags": []
          },
          "execution_count": 96
        }
      ]
    },
    {
      "cell_type": "code",
      "metadata": {
        "id": "tK_-iabhWRUi",
        "colab_type": "code",
        "colab": {
          "base_uri": "https://localhost:8080/",
          "height": 34
        },
        "outputId": "fc7ef052-2217-488d-cf40-20984efa4d95"
      },
      "source": [
        "a3.shape,  a3.T.shape"
      ],
      "execution_count": 97,
      "outputs": [
        {
          "output_type": "execute_result",
          "data": {
            "text/plain": [
              "((2, 3, 3), (3, 3, 2))"
            ]
          },
          "metadata": {
            "tags": []
          },
          "execution_count": 97
        }
      ]
    },
    {
      "cell_type": "markdown",
      "metadata": {
        "id": "76QUjFUeWjh_",
        "colab_type": "text"
      },
      "source": [
        "## Dot Product"
      ]
    },
    {
      "cell_type": "code",
      "metadata": {
        "id": "ArZJAcGjWcjI",
        "colab_type": "code",
        "colab": {}
      },
      "source": [
        "np.random.seed(0)\n",
        "mat1 = np.random.randint(10, size=(5,3))\n",
        "mat2 = np.random.randint(10, size=(5,3))"
      ],
      "execution_count": 0,
      "outputs": []
    },
    {
      "cell_type": "code",
      "metadata": {
        "id": "LOIZ5fspV5bp",
        "colab_type": "code",
        "colab": {
          "base_uri": "https://localhost:8080/",
          "height": 101
        },
        "outputId": "5df65e56-0812-4cb0-e5bb-59cd75f21875"
      },
      "source": [
        "mat1"
      ],
      "execution_count": 99,
      "outputs": [
        {
          "output_type": "execute_result",
          "data": {
            "text/plain": [
              "array([[5, 0, 3],\n",
              "       [3, 7, 9],\n",
              "       [3, 5, 2],\n",
              "       [4, 7, 6],\n",
              "       [8, 8, 1]])"
            ]
          },
          "metadata": {
            "tags": []
          },
          "execution_count": 99
        }
      ]
    },
    {
      "cell_type": "code",
      "metadata": {
        "id": "iy1HrDV8W9UN",
        "colab_type": "code",
        "colab": {
          "base_uri": "https://localhost:8080/",
          "height": 101
        },
        "outputId": "0c8c4843-a952-4eb7-f57f-dd81b0e350a9"
      },
      "source": [
        "mat2"
      ],
      "execution_count": 100,
      "outputs": [
        {
          "output_type": "execute_result",
          "data": {
            "text/plain": [
              "array([[6, 7, 7],\n",
              "       [8, 1, 5],\n",
              "       [9, 8, 9],\n",
              "       [4, 3, 0],\n",
              "       [3, 5, 0]])"
            ]
          },
          "metadata": {
            "tags": []
          },
          "execution_count": 100
        }
      ]
    },
    {
      "cell_type": "code",
      "metadata": {
        "id": "ghFnHI94W_GN",
        "colab_type": "code",
        "colab": {
          "base_uri": "https://localhost:8080/",
          "height": 34
        },
        "outputId": "8839b90c-f0ce-46cc-9b42-744c5d5a99c6"
      },
      "source": [
        "mat1.shape,  mat2.shape"
      ],
      "execution_count": 101,
      "outputs": [
        {
          "output_type": "execute_result",
          "data": {
            "text/plain": [
              "((5, 3), (5, 3))"
            ]
          },
          "metadata": {
            "tags": []
          },
          "execution_count": 101
        }
      ]
    },
    {
      "cell_type": "code",
      "metadata": {
        "id": "9uazEZTfXBgA",
        "colab_type": "code",
        "colab": {
          "base_uri": "https://localhost:8080/",
          "height": 101
        },
        "outputId": "c58cf5a4-c61a-44a2-aa48-10664c20f037"
      },
      "source": [
        "## Element-wise multiplication (Hadamard product)\n",
        "\n",
        "mat1 * mat2"
      ],
      "execution_count": 102,
      "outputs": [
        {
          "output_type": "execute_result",
          "data": {
            "text/plain": [
              "array([[30,  0, 21],\n",
              "       [24,  7, 45],\n",
              "       [27, 40, 18],\n",
              "       [16, 21,  0],\n",
              "       [24, 40,  0]])"
            ]
          },
          "metadata": {
            "tags": []
          },
          "execution_count": 102
        }
      ]
    },
    {
      "cell_type": "code",
      "metadata": {
        "id": "pJ0vzLrZXGCT",
        "colab_type": "code",
        "colab": {
          "base_uri": "https://localhost:8080/",
          "height": 101
        },
        "outputId": "f0b8172d-0595-44fb-f1ca-46f40ce42561"
      },
      "source": [
        "## Dot product \n",
        "\n",
        "np.dot(mat1, mat2.T)"
      ],
      "execution_count": 104,
      "outputs": [
        {
          "output_type": "execute_result",
          "data": {
            "text/plain": [
              "array([[ 51,  55,  72,  20,  15],\n",
              "       [130,  76, 164,  33,  44],\n",
              "       [ 67,  39,  85,  27,  34],\n",
              "       [115,  69, 146,  37,  47],\n",
              "       [111,  77, 145,  56,  64]])"
            ]
          },
          "metadata": {
            "tags": []
          },
          "execution_count": 104
        }
      ]
    },
    {
      "cell_type": "code",
      "metadata": {
        "id": "aiBe6Q-sX0NA",
        "colab_type": "code",
        "colab": {
          "base_uri": "https://localhost:8080/",
          "height": 34
        },
        "outputId": "0dbfe2cf-94c7-453f-801d-3b5a42817281"
      },
      "source": [
        "mat1.shape,  mat2.T.shape"
      ],
      "execution_count": 105,
      "outputs": [
        {
          "output_type": "execute_result",
          "data": {
            "text/plain": [
              "((5, 3), (3, 5))"
            ]
          },
          "metadata": {
            "tags": []
          },
          "execution_count": 105
        }
      ]
    },
    {
      "cell_type": "code",
      "metadata": {
        "id": "qfgNSW2OX2t0",
        "colab_type": "code",
        "colab": {
          "base_uri": "https://localhost:8080/",
          "height": 34
        },
        "outputId": "269d6f6f-8789-4e44-a02a-65085e7f8678"
      },
      "source": [
        "mat1.T.shape,  mat2.shape"
      ],
      "execution_count": 106,
      "outputs": [
        {
          "output_type": "execute_result",
          "data": {
            "text/plain": [
              "((3, 5), (5, 3))"
            ]
          },
          "metadata": {
            "tags": []
          },
          "execution_count": 106
        }
      ]
    },
    {
      "cell_type": "code",
      "metadata": {
        "id": "NbVkamKWX8aY",
        "colab_type": "code",
        "colab": {
          "base_uri": "https://localhost:8080/",
          "height": 67
        },
        "outputId": "f207df56-399d-481d-a757-2e02a9079474"
      },
      "source": [
        "np.dot(mat1.T,  mat2)"
      ],
      "execution_count": 107,
      "outputs": [
        {
          "output_type": "execute_result",
          "data": {
            "text/plain": [
              "array([[121, 114,  77],\n",
              "       [153, 108,  80],\n",
              "       [135,  69,  84]])"
            ]
          },
          "metadata": {
            "tags": []
          },
          "execution_count": 107
        }
      ]
    },
    {
      "cell_type": "markdown",
      "metadata": {
        "id": "06q0yHkQYPu_",
        "colab_type": "text"
      },
      "source": [
        "## Dot product example"
      ]
    },
    {
      "cell_type": "code",
      "metadata": {
        "id": "b-D1DvYLX_rh",
        "colab_type": "code",
        "colab": {
          "base_uri": "https://localhost:8080/",
          "height": 101
        },
        "outputId": "80a1a2e0-ccb5-471e-c36d-09e9b1514349"
      },
      "source": [
        "np.random.seed(0)\n",
        "\n",
        "## number of jars sold\n",
        "sales_amounts = np.random.randint(20, size=(5,3))\n",
        "sales_amounts"
      ],
      "execution_count": 108,
      "outputs": [
        {
          "output_type": "execute_result",
          "data": {
            "text/plain": [
              "array([[12, 15,  0],\n",
              "       [ 3,  3,  7],\n",
              "       [ 9, 19, 18],\n",
              "       [ 4,  6, 12],\n",
              "       [ 1,  6,  7]])"
            ]
          },
          "metadata": {
            "tags": []
          },
          "execution_count": 108
        }
      ]
    },
    {
      "cell_type": "code",
      "metadata": {
        "id": "bxdj3ZS8YjZ2",
        "colab_type": "code",
        "colab": {
          "base_uri": "https://localhost:8080/",
          "height": 195
        },
        "outputId": "3be35e72-3ff7-442e-a9f1-be07e14eb3ed"
      },
      "source": [
        "## create weekly sales dataframe\n",
        "\n",
        "weekly_sales = pd.DataFrame(sales_amounts, index=['Mon', 'Tue', 'Wed', 'Thurs', 'Fri'], \n",
        "                            columns=['Almond butter', 'Peanut butter', 'Cashew butter'])\n",
        "weekly_sales"
      ],
      "execution_count": 109,
      "outputs": [
        {
          "output_type": "execute_result",
          "data": {
            "text/html": [
              "<div>\n",
              "<style scoped>\n",
              "    .dataframe tbody tr th:only-of-type {\n",
              "        vertical-align: middle;\n",
              "    }\n",
              "\n",
              "    .dataframe tbody tr th {\n",
              "        vertical-align: top;\n",
              "    }\n",
              "\n",
              "    .dataframe thead th {\n",
              "        text-align: right;\n",
              "    }\n",
              "</style>\n",
              "<table border=\"1\" class=\"dataframe\">\n",
              "  <thead>\n",
              "    <tr style=\"text-align: right;\">\n",
              "      <th></th>\n",
              "      <th>Almond butter</th>\n",
              "      <th>Peanut butter</th>\n",
              "      <th>Cashew butter</th>\n",
              "    </tr>\n",
              "  </thead>\n",
              "  <tbody>\n",
              "    <tr>\n",
              "      <th>Mon</th>\n",
              "      <td>12</td>\n",
              "      <td>15</td>\n",
              "      <td>0</td>\n",
              "    </tr>\n",
              "    <tr>\n",
              "      <th>Tue</th>\n",
              "      <td>3</td>\n",
              "      <td>3</td>\n",
              "      <td>7</td>\n",
              "    </tr>\n",
              "    <tr>\n",
              "      <th>Wed</th>\n",
              "      <td>9</td>\n",
              "      <td>19</td>\n",
              "      <td>18</td>\n",
              "    </tr>\n",
              "    <tr>\n",
              "      <th>Thurs</th>\n",
              "      <td>4</td>\n",
              "      <td>6</td>\n",
              "      <td>12</td>\n",
              "    </tr>\n",
              "    <tr>\n",
              "      <th>Fri</th>\n",
              "      <td>1</td>\n",
              "      <td>6</td>\n",
              "      <td>7</td>\n",
              "    </tr>\n",
              "  </tbody>\n",
              "</table>\n",
              "</div>"
            ],
            "text/plain": [
              "       Almond butter  Peanut butter  Cashew butter\n",
              "Mon               12             15              0\n",
              "Tue                3              3              7\n",
              "Wed                9             19             18\n",
              "Thurs              4              6             12\n",
              "Fri                1              6              7"
            ]
          },
          "metadata": {
            "tags": []
          },
          "execution_count": 109
        }
      ]
    },
    {
      "cell_type": "code",
      "metadata": {
        "id": "9RlQaRsLXWf5",
        "colab_type": "code",
        "colab": {
          "base_uri": "https://localhost:8080/",
          "height": 34
        },
        "outputId": "2dc6ec33-4981-4885-d605-585919d718d9"
      },
      "source": [
        "## create prices array\n",
        "\n",
        "prices= np.array([10, 8, 12])\n",
        "prices"
      ],
      "execution_count": 110,
      "outputs": [
        {
          "output_type": "execute_result",
          "data": {
            "text/plain": [
              "array([10,  8, 12])"
            ]
          },
          "metadata": {
            "tags": []
          },
          "execution_count": 110
        }
      ]
    },
    {
      "cell_type": "code",
      "metadata": {
        "id": "VthMOkLtaGrC",
        "colab_type": "code",
        "colab": {
          "base_uri": "https://localhost:8080/",
          "height": 77
        },
        "outputId": "d6c82942-eb8b-4b9d-903c-9cfc5f38eb5e"
      },
      "source": [
        "## create prices dataframe\n",
        "\n",
        "pricesdf = pd.DataFrame(prices.reshape(1,3), index=['Price'], \n",
        "                        columns=['Almond butter', 'Peanut butter', 'Cashew butter'])\n",
        "pricesdf"
      ],
      "execution_count": 112,
      "outputs": [
        {
          "output_type": "execute_result",
          "data": {
            "text/html": [
              "<div>\n",
              "<style scoped>\n",
              "    .dataframe tbody tr th:only-of-type {\n",
              "        vertical-align: middle;\n",
              "    }\n",
              "\n",
              "    .dataframe tbody tr th {\n",
              "        vertical-align: top;\n",
              "    }\n",
              "\n",
              "    .dataframe thead th {\n",
              "        text-align: right;\n",
              "    }\n",
              "</style>\n",
              "<table border=\"1\" class=\"dataframe\">\n",
              "  <thead>\n",
              "    <tr style=\"text-align: right;\">\n",
              "      <th></th>\n",
              "      <th>Almond butter</th>\n",
              "      <th>Peanut butter</th>\n",
              "      <th>Cashew butter</th>\n",
              "    </tr>\n",
              "  </thead>\n",
              "  <tbody>\n",
              "    <tr>\n",
              "      <th>Price</th>\n",
              "      <td>10</td>\n",
              "      <td>8</td>\n",
              "      <td>12</td>\n",
              "    </tr>\n",
              "  </tbody>\n",
              "</table>\n",
              "</div>"
            ],
            "text/plain": [
              "       Almond butter  Peanut butter  Cashew butter\n",
              "Price             10              8             12"
            ]
          },
          "metadata": {
            "tags": []
          },
          "execution_count": 112
        }
      ]
    },
    {
      "cell_type": "code",
      "metadata": {
        "id": "ZPfK5RVfacwQ",
        "colab_type": "code",
        "colab": {
          "base_uri": "https://localhost:8080/",
          "height": 34
        },
        "outputId": "00a8b5a3-61ce-4ef0-b80b-491a03c45b1d"
      },
      "source": [
        "total_sales = np.dot(prices, sales_amounts.T)\n",
        "total_sales"
      ],
      "execution_count": 113,
      "outputs": [
        {
          "output_type": "execute_result",
          "data": {
            "text/plain": [
              "array([240, 138, 458, 232, 142])"
            ]
          },
          "metadata": {
            "tags": []
          },
          "execution_count": 113
        }
      ]
    },
    {
      "cell_type": "code",
      "metadata": {
        "id": "py4zWsjfbh12",
        "colab_type": "code",
        "colab": {
          "base_uri": "https://localhost:8080/",
          "height": 34
        },
        "outputId": "9eb59992-e540-4a78-85e0-17065f2f275c"
      },
      "source": [
        "## create daily total sales\n",
        "\n",
        "pricesdf.shape,  weekly_sales.shape"
      ],
      "execution_count": 115,
      "outputs": [
        {
          "output_type": "execute_result",
          "data": {
            "text/plain": [
              "((1, 3), (5, 3))"
            ]
          },
          "metadata": {
            "tags": []
          },
          "execution_count": 115
        }
      ]
    },
    {
      "cell_type": "code",
      "metadata": {
        "id": "TtdbKdr2b27f",
        "colab_type": "code",
        "colab": {
          "base_uri": "https://localhost:8080/",
          "height": 77
        },
        "outputId": "4d04ef0c-af7d-4d24-941c-360de7cd60af"
      },
      "source": [
        "daily_sales = pricesdf.dot(weekly_sales.T)\n",
        "daily_sales"
      ],
      "execution_count": 117,
      "outputs": [
        {
          "output_type": "execute_result",
          "data": {
            "text/html": [
              "<div>\n",
              "<style scoped>\n",
              "    .dataframe tbody tr th:only-of-type {\n",
              "        vertical-align: middle;\n",
              "    }\n",
              "\n",
              "    .dataframe tbody tr th {\n",
              "        vertical-align: top;\n",
              "    }\n",
              "\n",
              "    .dataframe thead th {\n",
              "        text-align: right;\n",
              "    }\n",
              "</style>\n",
              "<table border=\"1\" class=\"dataframe\">\n",
              "  <thead>\n",
              "    <tr style=\"text-align: right;\">\n",
              "      <th></th>\n",
              "      <th>Mon</th>\n",
              "      <th>Tue</th>\n",
              "      <th>Wed</th>\n",
              "      <th>Thurs</th>\n",
              "      <th>Fri</th>\n",
              "    </tr>\n",
              "  </thead>\n",
              "  <tbody>\n",
              "    <tr>\n",
              "      <th>Price</th>\n",
              "      <td>240</td>\n",
              "      <td>138</td>\n",
              "      <td>458</td>\n",
              "      <td>232</td>\n",
              "      <td>142</td>\n",
              "    </tr>\n",
              "  </tbody>\n",
              "</table>\n",
              "</div>"
            ],
            "text/plain": [
              "       Mon  Tue  Wed  Thurs  Fri\n",
              "Price  240  138  458    232  142"
            ]
          },
          "metadata": {
            "tags": []
          },
          "execution_count": 117
        }
      ]
    },
    {
      "cell_type": "code",
      "metadata": {
        "id": "rpksO8DJcQ6Q",
        "colab_type": "code",
        "colab": {}
      },
      "source": [
        "weekly_sales['Total'] = daily_sales.T"
      ],
      "execution_count": 0,
      "outputs": []
    },
    {
      "cell_type": "code",
      "metadata": {
        "id": "DhmE_vuAcyDW",
        "colab_type": "code",
        "colab": {
          "base_uri": "https://localhost:8080/",
          "height": 195
        },
        "outputId": "b3f51230-030a-4349-e88c-b92a6a2d0ac5"
      },
      "source": [
        "weekly_sales"
      ],
      "execution_count": 120,
      "outputs": [
        {
          "output_type": "execute_result",
          "data": {
            "text/html": [
              "<div>\n",
              "<style scoped>\n",
              "    .dataframe tbody tr th:only-of-type {\n",
              "        vertical-align: middle;\n",
              "    }\n",
              "\n",
              "    .dataframe tbody tr th {\n",
              "        vertical-align: top;\n",
              "    }\n",
              "\n",
              "    .dataframe thead th {\n",
              "        text-align: right;\n",
              "    }\n",
              "</style>\n",
              "<table border=\"1\" class=\"dataframe\">\n",
              "  <thead>\n",
              "    <tr style=\"text-align: right;\">\n",
              "      <th></th>\n",
              "      <th>Almond butter</th>\n",
              "      <th>Peanut butter</th>\n",
              "      <th>Cashew butter</th>\n",
              "      <th>Total</th>\n",
              "    </tr>\n",
              "  </thead>\n",
              "  <tbody>\n",
              "    <tr>\n",
              "      <th>Mon</th>\n",
              "      <td>12</td>\n",
              "      <td>15</td>\n",
              "      <td>0</td>\n",
              "      <td>240</td>\n",
              "    </tr>\n",
              "    <tr>\n",
              "      <th>Tue</th>\n",
              "      <td>3</td>\n",
              "      <td>3</td>\n",
              "      <td>7</td>\n",
              "      <td>138</td>\n",
              "    </tr>\n",
              "    <tr>\n",
              "      <th>Wed</th>\n",
              "      <td>9</td>\n",
              "      <td>19</td>\n",
              "      <td>18</td>\n",
              "      <td>458</td>\n",
              "    </tr>\n",
              "    <tr>\n",
              "      <th>Thurs</th>\n",
              "      <td>4</td>\n",
              "      <td>6</td>\n",
              "      <td>12</td>\n",
              "      <td>232</td>\n",
              "    </tr>\n",
              "    <tr>\n",
              "      <th>Fri</th>\n",
              "      <td>1</td>\n",
              "      <td>6</td>\n",
              "      <td>7</td>\n",
              "      <td>142</td>\n",
              "    </tr>\n",
              "  </tbody>\n",
              "</table>\n",
              "</div>"
            ],
            "text/plain": [
              "       Almond butter  Peanut butter  Cashew butter  Total\n",
              "Mon               12             15              0    240\n",
              "Tue                3              3              7    138\n",
              "Wed                9             19             18    458\n",
              "Thurs              4              6             12    232\n",
              "Fri                1              6              7    142"
            ]
          },
          "metadata": {
            "tags": []
          },
          "execution_count": 120
        }
      ]
    },
    {
      "cell_type": "code",
      "metadata": {
        "id": "ktS-9ejRc0DD",
        "colab_type": "code",
        "colab": {
          "base_uri": "https://localhost:8080/",
          "height": 50
        },
        "outputId": "df6bc198-4c04-40b5-a938-60efe46ed8f2"
      },
      "source": [
        "## comparison operators\n",
        "\n",
        "a1 >  a2"
      ],
      "execution_count": 121,
      "outputs": [
        {
          "output_type": "execute_result",
          "data": {
            "text/plain": [
              "array([[False, False, False],\n",
              "       [False, False,  True]])"
            ]
          },
          "metadata": {
            "tags": []
          },
          "execution_count": 121
        }
      ]
    },
    {
      "cell_type": "code",
      "metadata": {
        "id": "2aXf2LyadKmu",
        "colab_type": "code",
        "colab": {
          "base_uri": "https://localhost:8080/",
          "height": 34
        },
        "outputId": "b03f9b2d-3951-4306-9eb9-ca8982927437"
      },
      "source": [
        "a1 > 5"
      ],
      "execution_count": 122,
      "outputs": [
        {
          "output_type": "execute_result",
          "data": {
            "text/plain": [
              "array([False, False, False])"
            ]
          },
          "metadata": {
            "tags": []
          },
          "execution_count": 122
        }
      ]
    },
    {
      "cell_type": "code",
      "metadata": {
        "id": "FejdifnhdYOz",
        "colab_type": "code",
        "colab": {
          "base_uri": "https://localhost:8080/",
          "height": 34
        },
        "outputId": "a85959d8-0da7-49ce-86e0-bdeaaef601dd"
      },
      "source": [
        "a1 < 3"
      ],
      "execution_count": 123,
      "outputs": [
        {
          "output_type": "execute_result",
          "data": {
            "text/plain": [
              "array([ True,  True, False])"
            ]
          },
          "metadata": {
            "tags": []
          },
          "execution_count": 123
        }
      ]
    },
    {
      "cell_type": "markdown",
      "metadata": {
        "id": "6g0_ek6ld4cF",
        "colab_type": "text"
      },
      "source": [
        "## Sorting arrays"
      ]
    },
    {
      "cell_type": "code",
      "metadata": {
        "id": "rK3xtsZSda2y",
        "colab_type": "code",
        "colab": {
          "base_uri": "https://localhost:8080/",
          "height": 67
        },
        "outputId": "624979bd-c92e-48cd-b13e-2edc78a508fd"
      },
      "source": [
        "randomarr1 = np.random.randint(10, size=(3,5))\n",
        "randomarr1"
      ],
      "execution_count": 124,
      "outputs": [
        {
          "output_type": "execute_result",
          "data": {
            "text/plain": [
              "array([[7, 8, 1, 5, 9],\n",
              "       [8, 9, 4, 3, 0],\n",
              "       [3, 5, 0, 2, 3]])"
            ]
          },
          "metadata": {
            "tags": []
          },
          "execution_count": 124
        }
      ]
    },
    {
      "cell_type": "code",
      "metadata": {
        "id": "eL5ZCbBsduum",
        "colab_type": "code",
        "colab": {
          "base_uri": "https://localhost:8080/",
          "height": 67
        },
        "outputId": "3f74ee29-d9a8-4fc4-d2fb-f1b593146b8a"
      },
      "source": [
        "np.sort(randomarr1)"
      ],
      "execution_count": 125,
      "outputs": [
        {
          "output_type": "execute_result",
          "data": {
            "text/plain": [
              "array([[1, 5, 7, 8, 9],\n",
              "       [0, 3, 4, 8, 9],\n",
              "       [0, 2, 3, 3, 5]])"
            ]
          },
          "metadata": {
            "tags": []
          },
          "execution_count": 125
        }
      ]
    },
    {
      "cell_type": "code",
      "metadata": {
        "id": "hom2YGKWd1c1",
        "colab_type": "code",
        "colab": {
          "base_uri": "https://localhost:8080/",
          "height": 67
        },
        "outputId": "4919000b-2582-46d3-c726-edc8a9efcc20"
      },
      "source": [
        "np.argsort(randomarr1)"
      ],
      "execution_count": 126,
      "outputs": [
        {
          "output_type": "execute_result",
          "data": {
            "text/plain": [
              "array([[2, 3, 0, 1, 4],\n",
              "       [4, 3, 2, 0, 1],\n",
              "       [2, 3, 0, 4, 1]])"
            ]
          },
          "metadata": {
            "tags": []
          },
          "execution_count": 126
        }
      ]
    },
    {
      "cell_type": "code",
      "metadata": {
        "id": "hp9XcVWyeB9U",
        "colab_type": "code",
        "colab": {
          "base_uri": "https://localhost:8080/",
          "height": 34
        },
        "outputId": "d1455de3-1c80-4572-d3ee-11400dce4919"
      },
      "source": [
        "np.argmax(randomarr1)"
      ],
      "execution_count": 127,
      "outputs": [
        {
          "output_type": "execute_result",
          "data": {
            "text/plain": [
              "4"
            ]
          },
          "metadata": {
            "tags": []
          },
          "execution_count": 127
        }
      ]
    },
    {
      "cell_type": "code",
      "metadata": {
        "id": "q6XhcwvQeRWi",
        "colab_type": "code",
        "colab": {
          "base_uri": "https://localhost:8080/",
          "height": 34
        },
        "outputId": "e7b4ceda-06d5-44a1-d0c8-b214d5e34941"
      },
      "source": [
        "np.argmin(randomarr1)"
      ],
      "execution_count": 128,
      "outputs": [
        {
          "output_type": "execute_result",
          "data": {
            "text/plain": [
              "9"
            ]
          },
          "metadata": {
            "tags": []
          },
          "execution_count": 128
        }
      ]
    },
    {
      "cell_type": "code",
      "metadata": {
        "id": "RQkxvPgJepJm",
        "colab_type": "code",
        "colab": {
          "base_uri": "https://localhost:8080/",
          "height": 34
        },
        "outputId": "60616586-ea3b-420b-9172-79b65b36b3f2"
      },
      "source": [
        "np.argmax(randomarr1, axis=0)"
      ],
      "execution_count": 129,
      "outputs": [
        {
          "output_type": "execute_result",
          "data": {
            "text/plain": [
              "array([1, 1, 1, 0, 0])"
            ]
          },
          "metadata": {
            "tags": []
          },
          "execution_count": 129
        }
      ]
    },
    {
      "cell_type": "code",
      "metadata": {
        "id": "m9r6H5aEeyYB",
        "colab_type": "code",
        "colab": {
          "base_uri": "https://localhost:8080/",
          "height": 34
        },
        "outputId": "35bd03e6-dfb2-4d72-f46f-47c6f865bb93"
      },
      "source": [
        "np.argmax(randomarr1, axis=1)"
      ],
      "execution_count": 130,
      "outputs": [
        {
          "output_type": "execute_result",
          "data": {
            "text/plain": [
              "array([4, 1, 1])"
            ]
          },
          "metadata": {
            "tags": []
          },
          "execution_count": 130
        }
      ]
    },
    {
      "cell_type": "markdown",
      "metadata": {
        "id": "fr0kCmo9fAlb",
        "colab_type": "text"
      },
      "source": [
        "## Converting images into numpy array"
      ]
    },
    {
      "cell_type": "code",
      "metadata": {
        "id": "MljTJWpLe2Td",
        "colab_type": "code",
        "colab": {
          "base_uri": "https://localhost:8080/",
          "height": 121
        },
        "outputId": "3d06f2be-b497-43c3-a3a8-f94832bf2ade"
      },
      "source": [
        "from google.colab import drive\n",
        "drive.mount('/content/gdrive')"
      ],
      "execution_count": 131,
      "outputs": [
        {
          "output_type": "stream",
          "text": [
            "Go to this URL in a browser: https://accounts.google.com/o/oauth2/auth?client_id=947318989803-6bn6qk8qdgf4n4g3pfee6491hc0brc4i.apps.googleusercontent.com&redirect_uri=urn%3aietf%3awg%3aoauth%3a2.0%3aoob&response_type=code&scope=email%20https%3a%2f%2fwww.googleapis.com%2fauth%2fdocs.test%20https%3a%2f%2fwww.googleapis.com%2fauth%2fdrive%20https%3a%2f%2fwww.googleapis.com%2fauth%2fdrive.photos.readonly%20https%3a%2f%2fwww.googleapis.com%2fauth%2fpeopleapi.readonly\n",
            "\n",
            "Enter your authorization code:\n",
            "··········\n",
            "Mounted at /content/gdrive\n"
          ],
          "name": "stdout"
        }
      ]
    },
    {
      "cell_type": "code",
      "metadata": {
        "id": "WBJ8f64CfwvM",
        "colab_type": "code",
        "colab": {}
      },
      "source": [
        "filepath='/content/gdrive/My Drive/'"
      ],
      "execution_count": 0,
      "outputs": []
    },
    {
      "cell_type": "code",
      "metadata": {
        "id": "tW8lKEyqb0vr",
        "colab_type": "code",
        "colab": {}
      },
      "source": [
        "from matplotlib.image import imread\n",
        "panda = imread(filepath+'panda.png')"
      ],
      "execution_count": 0,
      "outputs": []
    },
    {
      "cell_type": "code",
      "metadata": {
        "id": "2DxJ3WDSVVPx",
        "colab_type": "code",
        "colab": {
          "base_uri": "https://localhost:8080/",
          "height": 840
        },
        "outputId": "ad80f882-79a1-4d26-85c3-103fc8bda98a"
      },
      "source": [
        "panda"
      ],
      "execution_count": 138,
      "outputs": [
        {
          "output_type": "execute_result",
          "data": {
            "text/plain": [
              "array([[[0.05490196, 0.10588235, 0.06666667],\n",
              "        [0.05490196, 0.10588235, 0.06666667],\n",
              "        [0.05490196, 0.10588235, 0.06666667],\n",
              "        ...,\n",
              "        [0.16470589, 0.12941177, 0.09411765],\n",
              "        [0.16470589, 0.12941177, 0.09411765],\n",
              "        [0.16470589, 0.12941177, 0.09411765]],\n",
              "\n",
              "       [[0.05490196, 0.10588235, 0.06666667],\n",
              "        [0.05490196, 0.10588235, 0.06666667],\n",
              "        [0.05490196, 0.10588235, 0.06666667],\n",
              "        ...,\n",
              "        [0.16470589, 0.12941177, 0.09411765],\n",
              "        [0.16470589, 0.12941177, 0.09411765],\n",
              "        [0.16470589, 0.12941177, 0.09411765]],\n",
              "\n",
              "       [[0.05490196, 0.10588235, 0.06666667],\n",
              "        [0.05490196, 0.10588235, 0.06666667],\n",
              "        [0.05490196, 0.10588235, 0.06666667],\n",
              "        ...,\n",
              "        [0.16470589, 0.12941177, 0.09411765],\n",
              "        [0.16470589, 0.12941177, 0.09411765],\n",
              "        [0.16470589, 0.12941177, 0.09411765]],\n",
              "\n",
              "       ...,\n",
              "\n",
              "       [[0.13333334, 0.07450981, 0.05490196],\n",
              "        [0.12156863, 0.0627451 , 0.04313726],\n",
              "        [0.10980392, 0.05098039, 0.03137255],\n",
              "        ...,\n",
              "        [0.02745098, 0.02745098, 0.03529412],\n",
              "        [0.02745098, 0.02745098, 0.03529412],\n",
              "        [0.02745098, 0.02745098, 0.03529412]],\n",
              "\n",
              "       [[0.13333334, 0.07450981, 0.05490196],\n",
              "        [0.12156863, 0.0627451 , 0.04313726],\n",
              "        [0.12156863, 0.0627451 , 0.04313726],\n",
              "        ...,\n",
              "        [0.02352941, 0.02352941, 0.03137255],\n",
              "        [0.02352941, 0.02352941, 0.03137255],\n",
              "        [0.02352941, 0.02352941, 0.03137255]],\n",
              "\n",
              "       [[0.13333334, 0.07450981, 0.05490196],\n",
              "        [0.12156863, 0.0627451 , 0.04313726],\n",
              "        [0.12156863, 0.0627451 , 0.04313726],\n",
              "        ...,\n",
              "        [0.02352941, 0.02352941, 0.03137255],\n",
              "        [0.02352941, 0.02352941, 0.03137255],\n",
              "        [0.02352941, 0.02352941, 0.03137255]]], dtype=float32)"
            ]
          },
          "metadata": {
            "tags": []
          },
          "execution_count": 138
        }
      ]
    },
    {
      "cell_type": "code",
      "metadata": {
        "id": "H-vjdT9dhemM",
        "colab_type": "code",
        "colab": {
          "base_uri": "https://localhost:8080/",
          "height": 34
        },
        "outputId": "3c4dede8-8e15-4946-fa68-ef7316c952d3"
      },
      "source": [
        "panda.shape,  panda.size,  panda.ndim"
      ],
      "execution_count": 139,
      "outputs": [
        {
          "output_type": "execute_result",
          "data": {
            "text/plain": [
              "((2330, 3500, 3), 24465000, 3)"
            ]
          },
          "metadata": {
            "tags": []
          },
          "execution_count": 139
        }
      ]
    },
    {
      "cell_type": "code",
      "metadata": {
        "id": "nIGB3uNxhpDu",
        "colab_type": "code",
        "colab": {
          "base_uri": "https://localhost:8080/",
          "height": 34
        },
        "outputId": "6129305e-e1b0-4cd5-f7ab-53a5364568a8"
      },
      "source": [
        "type(panda)"
      ],
      "execution_count": 140,
      "outputs": [
        {
          "output_type": "execute_result",
          "data": {
            "text/plain": [
              "numpy.ndarray"
            ]
          },
          "metadata": {
            "tags": []
          },
          "execution_count": 140
        }
      ]
    }
  ]
}